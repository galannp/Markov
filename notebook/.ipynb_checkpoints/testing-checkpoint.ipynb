{
 "cells": [
  {
   "cell_type": "code",
   "execution_count": 13,
   "id": "06e2df2c",
   "metadata": {},
   "outputs": [
    {
     "name": "stdout",
     "output_type": "stream",
     "text": [
      "The autoreload extension is already loaded. To reload it, use:\n",
      "  %reload_ext autoreload\n"
     ]
    }
   ],
   "source": [
    "%load_ext autoreload\n",
    "%autoreload 2\n",
    "import numpy as np\n",
    "import networkx as nx\n",
    "import matplotlib.pyplot as plt\n",
    "import sys\n",
    "sys.path.append('../src')\n",
    "\n",
    "from graph_utils import *"
   ]
  },
  {
   "cell_type": "code",
   "execution_count": 14,
   "id": "ec806c26",
   "metadata": {},
   "outputs": [],
   "source": [
    "# The groundtruth\n",
    "N = 10\n",
    "x_star = generate_population(N)"
   ]
  },
  {
   "cell_type": "code",
   "execution_count": 15,
   "id": "4c03fc33",
   "metadata": {},
   "outputs": [
    {
     "name": "stdout",
     "output_type": "stream",
     "text": [
      "d = 3\n",
      "r = 0.2\n",
      "a = 5.0\n",
      "b = 1.0\n"
     ]
    }
   ],
   "source": [
    "# Parameters\n",
    "r = 0.2\n",
    "d = 3\n",
    "a = (2. * d) / (1. + r)\n",
    "b = a * r\n",
    "\n",
    "print(f'd = {d}')\n",
    "print(f'r = {r}')\n",
    "print(f'a = {a}')\n",
    "print(f'b = {b}')"
   ]
  },
  {
   "cell_type": "code",
   "execution_count": 63,
   "id": "4052a89a",
   "metadata": {},
   "outputs": [
    {
     "name": "stdout",
     "output_type": "stream",
     "text": [
      "fast_gnp_random_graph(5,5,0.1)\n"
     ]
    },
    {
     "data": {
      "image/png": "[encoded data removed]",
      "text/plain": [
       "<Figure size 432x288 with 1 Axes>"
      ]
     },
     "metadata": {},
     "output_type": "display_data"
    }
   ],
   "source": [
    "G = build_graph(x_star, a, b)\n",
    "draw_graph(G, x_star)"
   ]
  },
  {
   "cell_type": "code",
   "execution_count": null,
   "id": "98988ca1-9527-49b2-a0e8-dc9c0d31cd70",
   "metadata": {},
   "outputs": [],
   "source": []
  }
 ],
 "metadata": {
  "kernelspec": {
   "display_name": "Python 3",
   "language": "python",
   "name": "python3"
  },
  "language_info": {
   "codemirror_mode": {
    "name": "ipython",
    "version": 3
   },
   "file_extension": ".py",
   "mimetype": "text/x-python",
   "name": "python",
   "nbconvert_exporter": "python",
   "pygments_lexer": "ipython3",
   "version": "3.8.8"
  }
 },
 "nbformat": 4,
 "nbformat_minor": 5
}
